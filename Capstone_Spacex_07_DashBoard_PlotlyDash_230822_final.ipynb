{
 "cells": [
  {
   "cell_type": "code",
   "execution_count": 1,
   "id": "8d1f0422",
   "metadata": {
    "ExecuteTime": {
     "end_time": "2022-08-30T22:33:49.013667Z",
     "start_time": "2022-08-30T22:33:38.792900Z"
    }
   },
   "outputs": [
    {
     "name": "stdout",
     "output_type": "stream",
     "text": [
      "Requirement already satisfied: pandas in d:\\anaconda3\\lib\\site-packages (1.4.2)\n",
      "Collecting dash\n",
      "  Downloading dash-2.6.1-py3-none-any.whl (9.9 MB)\n",
      "Requirement already satisfied: python-dateutil>=2.8.1 in d:\\anaconda3\\lib\\site-packages (from pandas) (2.8.2)\n",
      "Requirement already satisfied: pytz>=2020.1 in d:\\anaconda3\\lib\\site-packages (from pandas) (2021.3)\n",
      "Requirement already satisfied: numpy>=1.18.5 in d:\\anaconda3\\lib\\site-packages (from pandas) (1.21.5)\n",
      "Requirement already satisfied: plotly>=5.0.0 in d:\\anaconda3\\lib\\site-packages (from dash) (5.6.0)\n",
      "Requirement already satisfied: Flask>=1.0.4 in d:\\anaconda3\\lib\\site-packages (from dash) (1.1.2)\n",
      "Collecting flask-compress\n",
      "  Using cached Flask_Compress-1.12-py3-none-any.whl (7.9 kB)\n",
      "Collecting dash-core-components==2.0.0\n",
      "  Using cached dash_core_components-2.0.0-py3-none-any.whl (3.8 kB)\n",
      "Collecting dash-html-components==2.0.0\n",
      "  Using cached dash_html_components-2.0.0-py3-none-any.whl (4.1 kB)\n",
      "Collecting dash-table==5.0.0\n",
      "  Using cached dash_table-5.0.0-py3-none-any.whl (3.9 kB)\n",
      "Requirement already satisfied: click>=5.1 in d:\\anaconda3\\lib\\site-packages (from Flask>=1.0.4->dash) (8.0.4)\n",
      "Requirement already satisfied: Jinja2>=2.10.1 in d:\\anaconda3\\lib\\site-packages (from Flask>=1.0.4->dash) (2.11.3)\n",
      "Requirement already satisfied: itsdangerous>=0.24 in d:\\anaconda3\\lib\\site-packages (from Flask>=1.0.4->dash) (2.0.1)\n",
      "Requirement already satisfied: Werkzeug>=0.15 in d:\\anaconda3\\lib\\site-packages (from Flask>=1.0.4->dash) (2.0.3)\n",
      "Requirement already satisfied: colorama in d:\\anaconda3\\lib\\site-packages (from click>=5.1->Flask>=1.0.4->dash) (0.4.4)\n",
      "Requirement already satisfied: MarkupSafe>=0.23 in d:\\anaconda3\\lib\\site-packages (from Jinja2>=2.10.1->Flask>=1.0.4->dash) (2.0.1)\n",
      "Requirement already satisfied: six in d:\\anaconda3\\lib\\site-packages (from plotly>=5.0.0->dash) (1.16.0)\n",
      "Requirement already satisfied: tenacity>=6.2.0 in d:\\anaconda3\\lib\\site-packages (from plotly>=5.0.0->dash) (8.0.1)\n",
      "Collecting brotli\n",
      "  Using cached Brotli-1.0.9-cp39-cp39-win_amd64.whl (383 kB)\n",
      "Installing collected packages: brotli, flask-compress, dash-table, dash-html-components, dash-core-components, dash\n",
      "Successfully installed brotli-1.0.9 dash-2.6.1 dash-core-components-2.0.0 dash-html-components-2.0.0 dash-table-5.0.0 flask-compress-1.12\n"
     ]
    }
   ],
   "source": [
    "### [JWU] spliting .py into cells and locally test by Jupyter Notebook \n",
    "!pip install pandas dash"
   ]
  },
  {
   "cell_type": "code",
   "execution_count": 2,
   "id": "236e2173",
   "metadata": {
    "ExecuteTime": {
     "end_time": "2022-08-30T22:33:58.314346Z",
     "start_time": "2022-08-30T22:33:53.140938Z"
    }
   },
   "outputs": [
    {
     "name": "stderr",
     "output_type": "stream",
     "text": [
      "C:\\Users\\mapleseason\\AppData\\Local\\Temp\\ipykernel_12244\\1399112611.py:4: UserWarning: \n",
      "The dash_html_components package is deprecated. Please replace\n",
      "`import dash_html_components as html` with `from dash import html`\n",
      "  import dash_html_components as html\n",
      "C:\\Users\\mapleseason\\AppData\\Local\\Temp\\ipykernel_12244\\1399112611.py:5: UserWarning: \n",
      "The dash_core_components package is deprecated. Please replace\n",
      "`import dash_core_components as dcc` with `from dash import dcc`\n",
      "  import dash_core_components as dcc\n"
     ]
    }
   ],
   "source": [
    "# Import required libraries\n",
    "import pandas as pd\n",
    "import dash\n",
    "import dash_html_components as html\n",
    "import dash_core_components as dcc\n",
    "from dash.dependencies import Input, Output\n",
    "import plotly.express as px"
   ]
  },
  {
   "cell_type": "code",
   "execution_count": 3,
   "id": "120e875f",
   "metadata": {
    "ExecuteTime": {
     "end_time": "2022-08-30T22:33:58.391360Z",
     "start_time": "2022-08-30T22:33:58.333109Z"
    }
   },
   "outputs": [],
   "source": [
    "# Read the airline data into pandas dataframe\n",
    "spacex_csv_file = \"D://PERSONAL//DataEngine//IBM_DS//10_Capstone//spacex_launch_dash.csv\"\n",
    "spacex_df = pd.read_csv(spacex_csv_file)\n",
    "max_payload = spacex_df['Payload Mass (kg)'].max()\n",
    "min_payload = spacex_df['Payload Mass (kg)'].min()"
   ]
  },
  {
   "cell_type": "code",
   "execution_count": 4,
   "id": "7ac74633",
   "metadata": {
    "ExecuteTime": {
     "end_time": "2022-08-30T22:33:58.686142Z",
     "start_time": "2022-08-30T22:33:58.650222Z"
    }
   },
   "outputs": [],
   "source": [
    "# Create a dash application\n",
    "app = dash.Dash(__name__)\n",
    "app.config.suppress_callback_exceptions = True\n",
    "# Clear the layout and do not display exception till callback gets executed \n",
    "\n",
    "# Create an app layout\n",
    "app.layout = html.Div(children=[html.H1('SpaceX Launch Records Dashboard',\n",
    "                                        style={'textAlign':'center','color':'#503D36','font-size': 40}),\n",
    "                                # TASK 1: Add a dropdown list to enable Launch Site selection\n",
    "                                # The default select value is for ALL sites\n",
    "                                # dcc.Dropdown(id='site-dropdown',...)\n",
    "                                dcc.Dropdown(id='site-dropdown',\n",
    "                                             options=[\n",
    "                                                     {'label': 'All Sites','value':'ALL'},\n",
    "                                                     {'label': 'CCAFS LC-40','value':'CCAFS LC-40'},\n",
    "                                                     {'label': 'CCAFS SLC-40','value':'CCAFS SLC-40'},\n",
    "                                                     {'label': 'KSC LC-39A','value':'KSC LC-39A'},\n",
    "                                                     {'label': 'VAFB SLC-4E','value':'VAFB SLC-4E'}\n",
    "                                                     ],\n",
    "                                             value='ALL',\n",
    "                                             placeholder='Select a launch site here:',\n",
    "                                             searchable=True,\n",
    "#                                              style={'width':'80%','padding':'3px','font-size':'20px','text-align-last':'center'}\n",
    "                                             ),\n",
    "                                html.Br(),\n",
    "\n",
    "                                # TASK 2: Add a pie chart to show the total successful launches count for all sites\n",
    "                                # If a specific launch site was selected, show the Success vs. Failed counts for the site\n",
    "                                html.Div(dcc.Graph(id='success-pie-chart')),\n",
    "                                html.Br(),\n",
    "\n",
    "                                html.P(\"Payload range (Kg):\"),\n",
    "                                # TASK 3: Add a slider to select payload range\n",
    "                                #dcc.RangeSlider(id='payload-slider',...)\n",
    "                                # Example cited from https://dash.plotly.com/dash-core-components/rangeslider\n",
    "                                # app.layout = html.Div([\n",
    "                                #     dcc.RangeSlider(0, 20, 1, value=[5, 15], id='my-range-slider'),\n",
    "                                #     html.Div(id='output-container-range-slider')\n",
    "                                # ])\n",
    "                                dcc.RangeSlider(id='payload-slider',\n",
    "                                                min=0,max=10000,step=1000,value=[min_payload, max_payload]\n",
    "                                               ),\n",
    "                                # TASK 4: Add a scatter chart to show the correlation between payload and launch success\n",
    "                                html.Div(dcc.Graph(id='success-payload-scatter-chart')),\n",
    "                                ])\n"
   ]
  },
  {
   "cell_type": "code",
   "execution_count": 5,
   "id": "cbb9aa64",
   "metadata": {
    "ExecuteTime": {
     "end_time": "2022-08-30T22:34:03.284951Z",
     "start_time": "2022-08-30T22:34:03.258990Z"
    }
   },
   "outputs": [],
   "source": [
    "# TASK 2:\n",
    "# Add a callback function for `site-dropdown` as input, `success-pie-chart` as output\n",
    "@app.callback(Output(component_id='success-pie-chart', component_property='figure'),\n",
    "                Input(component_id='site-dropdown', component_property='value'))\n",
    "\n",
    "def get_graph(in_site):\n",
    "    if in_site == 'ALL':\n",
    "        pie_fig = px.pie(spacex_df, values='class', names='Launch Site', title='Total Success Launches by Site')\n",
    "        return pie_fig\n",
    "    else:\n",
    "        pie_df = spacex_df[spacex_df['Launch Site']==in_site].groupby(['Launch Site','class']).size().reset_index(name='Counts')\n",
    "        pie_fig = px.pie(pie_df, values='Counts', names='class', title=f\"Total Success Launches for Site {in_site}\")\n",
    "        return pie_fig"
   ]
  },
  {
   "cell_type": "code",
   "execution_count": 6,
   "id": "eb5d0de0",
   "metadata": {
    "ExecuteTime": {
     "end_time": "2022-08-30T22:34:05.973954Z",
     "start_time": "2022-08-30T22:34:05.956001Z"
    }
   },
   "outputs": [],
   "source": [
    "# TASK 4:\n",
    "# Add a callback function for `site-dropdown` and `payload-slider` as inputs, `success-payload-scatter-chart` as output\n",
    "@app.callback(Output(component_id='success-payload-scatter-chart',component_property='figure'),\n",
    "                Input(component_id='site-dropdown', component_property='value'),\n",
    "                Input(component_id='payload-slider', component_property='value'))\n",
    "\n",
    "def get_scatter(in_site, in_payload):\n",
    "    \n",
    "    if in_site == 'ALL':\n",
    "        sca_fig = px.scatter(spacex_df[spacex_df['Payload Mass (kg)'].between(in_payload[0],in_payload[1])],\n",
    "                             x='Payload Mass (kg)',y='class', color='Booster Version Category', title='Correlation between Payload and Success for all Sites')\n",
    "        return sca_fig\n",
    "    else:\n",
    "        sca_fig = px.scatter(spacex_df[spacex_df['Launch Site']==in_site],\n",
    "                             x='Payload Mass (kg)',y='class', color='Booster Version Category', title=f\"Correlation between Payload and Success for Sites of {in_site}\")\n",
    "        return sca_fig"
   ]
  },
  {
   "cell_type": "code",
   "execution_count": null,
   "id": "a64478c8",
   "metadata": {
    "ExecuteTime": {
     "start_time": "2022-08-30T22:34:11.040Z"
    }
   },
   "outputs": [
    {
     "name": "stdout",
     "output_type": "stream",
     "text": [
      "Dash is running on http://127.0.0.1:8050/\n",
      "\n",
      " * Serving Flask app \"__main__\" (lazy loading)\n",
      " * Environment: production\n",
      "\u001b[31m   WARNING: This is a development server. Do not use it in a production deployment.\u001b[0m\n",
      "\u001b[2m   Use a production WSGI server instead.\u001b[0m\n",
      " * Debug mode: off\n"
     ]
    },
    {
     "name": "stderr",
     "output_type": "stream",
     "text": [
      " * Running on http://127.0.0.1:8050/ (Press CTRL+C to quit)\n",
      "127.0.0.1 - - [30/Aug/2022 16:34:22] \"GET / HTTP/1.1\" 200 -\n",
      "127.0.0.1 - - [30/Aug/2022 16:34:22] \"GET /_dash-component-suites/dash/deps/polyfill@7.v2_6_1m1661898827.12.1.min.js HTTP/1.1\" 200 -\n",
      "127.0.0.1 - - [30/Aug/2022 16:34:22] \"GET /_dash-component-suites/dash/deps/react@16.v2_6_1m1661898827.14.0.min.js HTTP/1.1\" 200 -\n",
      "127.0.0.1 - - [30/Aug/2022 16:34:22] \"GET /_dash-component-suites/dash/deps/react-dom@16.v2_6_1m1661898827.14.0.min.js HTTP/1.1\" 200 -\n",
      "127.0.0.1 - - [30/Aug/2022 16:34:22] \"GET /_dash-component-suites/dash/deps/prop-types@15.v2_6_1m1661898827.8.1.min.js HTTP/1.1\" 200 -\n",
      "127.0.0.1 - - [30/Aug/2022 16:34:22] \"GET /_dash-component-suites/dash/dash-renderer/build/dash_renderer.v2_6_1m1661898827.min.js HTTP/1.1\" 200 -\n",
      "127.0.0.1 - - [30/Aug/2022 16:34:23] \"GET /_dash-component-suites/dash/dcc/dash_core_components.v2_6_1m1661898827.js HTTP/1.1\" 200 -\n",
      "127.0.0.1 - - [30/Aug/2022 16:34:23] \"GET /_dash-component-suites/dash/dcc/dash_core_components-shared.v2_6_1m1661898827.js HTTP/1.1\" 200 -\n",
      "127.0.0.1 - - [30/Aug/2022 16:34:23] \"GET /_dash-component-suites/dash/html/dash_html_components.v2_0_5m1661898827.min.js HTTP/1.1\" 200 -\n",
      "127.0.0.1 - - [30/Aug/2022 16:34:23] \"GET /_dash-component-suites/dash/dash_table/bundle.v5_1_5m1661898827.js HTTP/1.1\" 200 -\n",
      "127.0.0.1 - - [30/Aug/2022 16:34:23] \"GET /_dash-layout HTTP/1.1\" 200 -\n",
      "127.0.0.1 - - [30/Aug/2022 16:34:23] \"GET /_dash-dependencies HTTP/1.1\" 200 -\n",
      "127.0.0.1 - - [30/Aug/2022 16:34:23] \"GET /_favicon.ico?v=2.6.1 HTTP/1.1\" 200 -\n",
      "127.0.0.1 - - [30/Aug/2022 16:34:23] \"GET /_dash-component-suites/dash/dcc/async-dropdown.js HTTP/1.1\" 200 -\n",
      "127.0.0.1 - - [30/Aug/2022 16:34:23] \"GET /_dash-component-suites/dash/dcc/async-graph.js HTTP/1.1\" 200 -\n",
      "127.0.0.1 - - [30/Aug/2022 16:34:23] \"GET /_dash-component-suites/dash/dcc/async-slider.js HTTP/1.1\" 200 -\n",
      "127.0.0.1 - - [30/Aug/2022 16:34:23] \"GET /_dash-component-suites/dash/dcc/async-plotlyjs.js HTTP/1.1\" 200 -\n",
      "127.0.0.1 - - [30/Aug/2022 16:34:25] \"POST /_dash-update-component HTTP/1.1\" 200 -\n",
      "127.0.0.1 - - [30/Aug/2022 16:34:25] \"POST /_dash-update-component HTTP/1.1\" 200 -\n",
      "127.0.0.1 - - [30/Aug/2022 16:38:32] \"POST /_dash-update-component HTTP/1.1\" 200 -\n",
      "127.0.0.1 - - [30/Aug/2022 16:38:32] \"POST /_dash-update-component HTTP/1.1\" 200 -\n",
      "127.0.0.1 - - [30/Aug/2022 16:42:28] \"POST /_dash-update-component HTTP/1.1\" 200 -\n",
      "127.0.0.1 - - [30/Aug/2022 16:42:28] \"POST /_dash-update-component HTTP/1.1\" 200 -\n",
      "127.0.0.1 - - [30/Aug/2022 16:47:33] \"POST /_dash-update-component HTTP/1.1\" 200 -\n",
      "127.0.0.1 - - [30/Aug/2022 16:47:38] \"POST /_dash-update-component HTTP/1.1\" 200 -\n",
      "127.0.0.1 - - [30/Aug/2022 16:47:44] \"POST /_dash-update-component HTTP/1.1\" 200 -\n",
      "127.0.0.1 - - [30/Aug/2022 16:47:55] \"POST /_dash-update-component HTTP/1.1\" 200 -\n",
      "127.0.0.1 - - [30/Aug/2022 16:48:26] \"POST /_dash-update-component HTTP/1.1\" 200 -\n",
      "127.0.0.1 - - [30/Aug/2022 16:49:42] \"POST /_dash-update-component HTTP/1.1\" 200 -\n",
      "127.0.0.1 - - [30/Aug/2022 16:49:44] \"POST /_dash-update-component HTTP/1.1\" 200 -\n"
     ]
    }
   ],
   "source": [
    "# Run the app\n",
    "if __name__ == '__main__':\n",
    "    app.run_server()"
   ]
  },
  {
   "cell_type": "code",
   "execution_count": null,
   "id": "8d3fe9ba",
   "metadata": {},
   "outputs": [],
   "source": []
  }
 ],
 "metadata": {
  "kernelspec": {
   "display_name": "Python 3 (ipykernel)",
   "language": "python",
   "name": "python3"
  },
  "language_info": {
   "codemirror_mode": {
    "name": "ipython",
    "version": 3
   },
   "file_extension": ".py",
   "mimetype": "text/x-python",
   "name": "python",
   "nbconvert_exporter": "python",
   "pygments_lexer": "ipython3",
   "version": "3.9.12"
  },
  "toc": {
   "base_numbering": 1,
   "nav_menu": {},
   "number_sections": true,
   "sideBar": true,
   "skip_h1_title": false,
   "title_cell": "Table of Contents",
   "title_sidebar": "Contents",
   "toc_cell": false,
   "toc_position": {},
   "toc_section_display": true,
   "toc_window_display": false
  },
  "varInspector": {
   "cols": {
    "lenName": 16,
    "lenType": 16,
    "lenVar": 40
   },
   "kernels_config": {
    "python": {
     "delete_cmd_postfix": "",
     "delete_cmd_prefix": "del ",
     "library": "var_list.py",
     "varRefreshCmd": "print(var_dic_list())"
    },
    "r": {
     "delete_cmd_postfix": ") ",
     "delete_cmd_prefix": "rm(",
     "library": "var_list.r",
     "varRefreshCmd": "cat(var_dic_list()) "
    }
   },
   "types_to_exclude": [
    "module",
    "function",
    "builtin_function_or_method",
    "instance",
    "_Feature"
   ],
   "window_display": false
  }
 },
 "nbformat": 4,
 "nbformat_minor": 5
}
